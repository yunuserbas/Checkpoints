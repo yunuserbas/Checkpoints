{
  "nbformat": 4,
  "nbformat_minor": 0,
  "metadata": {
    "colab": {
      "provenance": [],
      "collapsed_sections": []
    },
    "kernelspec": {
      "name": "python3",
      "display_name": "Python 3"
    }
  },
  "cells": [
    {
      "cell_type": "markdown",
      "metadata": {
        "id": "To2TYJGuPwc-"
      },
      "source": [
        "# 1. L'énoncé"
      ]
    },
    {
      "cell_type": "markdown",
      "metadata": {
        "id": "B0XiM5wcQbY8"
      },
      "source": [
        "Ecris une fonction *monnaie_a_rendre()* qui prend deux arguments obligatoires : \n",
        "- montant de l'achat : float, supérieur à 0\n",
        "- monnaie du client : integer, supérieur à 0\n",
        "\n",
        "La fonction devra afficher la monnaie à rendre au client en un minimum de billets/pièces. \n",
        "\n",
        "Attention, si la monnaie du client est insuffisante (inférieure à l'achat), il faudra l'indiquer.\n",
        "\n",
        "Exemple : \n",
        "\n",
        "\n",
        "```\n",
        "monnaie_a_rendre(26.57 , 40)\n",
        ">>> Nb billets 10 euros : 1\n",
        ">>> Nb pièces 2 euros : 1\n",
        ">>> Nb pièces 1 euro : 1\n",
        ">>> Nb pièces 20 cents : 2\n",
        ">>> Nb pièces 2 cents : 1\n",
        ">>> Nb pièces 1 cent : 1\n",
        "```\n",
        "\n"
      ]
    },
    {
      "cell_type": "code",
      "metadata": {
        "id": "6alG3GNPPv5U"
      },
      "source": [
        "# Ta fonction ici :\n",
        "def monnaie_a_rendre(achat, monnaie):\n",
        "  "
      ],
      "execution_count": null,
      "outputs": []
    },
    {
      "cell_type": "code",
      "metadata": {
        "id": "p2PCEpAxI20Q"
      },
      "source": [
        "# Pour tester :\n",
        "monnaie_a_rendre(26.57 , 40)"
      ],
      "execution_count": null,
      "outputs": []
    },
    {
      "cell_type": "markdown",
      "source": [
        "# 2. Définir mes montants"
      ],
      "metadata": {
        "id": "cs_Dk2X-FOLY"
      }
    },
    {
      "cell_type": "code",
      "source": [
        "montant_achat = 26.57\n",
        "monnaie_client = 50"
      ],
      "metadata": {
        "id": "yJ0JQI1O9FNM"
      },
      "execution_count": 17,
      "outputs": []
    },
    {
      "cell_type": "code",
      "source": [
        "a_rendre = monnaie_client - montant_achat\n",
        "a_rendre"
      ],
      "metadata": {
        "colab": {
          "base_uri": "https://localhost:8080/"
        },
        "id": "z3fxFlb5_LfR",
        "outputId": "ada2d7bf-b60f-4bfd-82d5-2d1c605f5bb8"
      },
      "execution_count": 18,
      "outputs": [
        {
          "output_type": "execute_result",
          "data": {
            "text/plain": [
              "23.43"
            ]
          },
          "metadata": {},
          "execution_count": 18
        }
      ]
    },
    {
      "cell_type": "markdown",
      "source": [
        "# 3. Gestion du cas où client a aps assez de monnaie"
      ],
      "metadata": {
        "id": "w7y3YQOfFGdR"
      }
    },
    {
      "cell_type": "code",
      "source": [
        "### cas où client a aps assez de monnaie géré\n",
        "if montant_achat > monnaie_client:\n",
        "    print(\"Le client n'a pas assez de monnaie\")"
      ],
      "metadata": {
        "id": "rIRi3M1c9E7s"
      },
      "execution_count": 6,
      "outputs": []
    },
    {
      "cell_type": "markdown",
      "source": [
        "# 4. Test en rendant des billets de 10 euros"
      ],
      "metadata": {
        "id": "52ifB_QHFUZu"
      }
    },
    {
      "cell_type": "code",
      "source": [
        "nb_a_rendre = a_rendre // 10\n",
        "nb_a_rendre"
      ],
      "metadata": {
        "colab": {
          "base_uri": "https://localhost:8080/"
        },
        "id": "jrpVVvkm9fPF",
        "outputId": "128d542a-c8e9-4f19-d4a2-fa5dcb1b5b63"
      },
      "execution_count": 11,
      "outputs": [
        {
          "output_type": "execute_result",
          "data": {
            "text/plain": [
              "2.0"
            ]
          },
          "metadata": {},
          "execution_count": 11
        }
      ]
    },
    {
      "cell_type": "code",
      "source": [
        "round(a_rendre % 10, 2)"
      ],
      "metadata": {
        "colab": {
          "base_uri": "https://localhost:8080/"
        },
        "id": "uSLd187E_fpQ",
        "outputId": "4147d8bb-0092-432f-8239-9f53ed47fdab"
      },
      "execution_count": 13,
      "outputs": [
        {
          "output_type": "execute_result",
          "data": {
            "text/plain": [
              "3.43"
            ]
          },
          "metadata": {},
          "execution_count": 13
        }
      ]
    },
    {
      "cell_type": "code",
      "source": [
        "37//10 # je peux mettre 3 fois 10 euros dans 37"
      ],
      "metadata": {
        "colab": {
          "base_uri": "https://localhost:8080/"
        },
        "id": "Xl3tXBkK9fDm",
        "outputId": "fc55ba9e-e4d4-4180-db24-682b968c41f8"
      },
      "execution_count": 42,
      "outputs": [
        {
          "output_type": "execute_result",
          "data": {
            "text/plain": [
              "3"
            ]
          },
          "metadata": {},
          "execution_count": 42
        }
      ]
    },
    {
      "cell_type": "code",
      "source": [
        "37%10 # il me reste 7 euro une fois que j'ai rendu 3 billers de 10 euros"
      ],
      "metadata": {
        "colab": {
          "base_uri": "https://localhost:8080/"
        },
        "id": "yZaf0tqZ9E0r",
        "outputId": "822359d0-b6e0-45ca-8116-b3afb4d992ff"
      },
      "execution_count": 43,
      "outputs": [
        {
          "output_type": "execute_result",
          "data": {
            "text/plain": [
              "7"
            ]
          },
          "metadata": {},
          "execution_count": 43
        }
      ]
    },
    {
      "cell_type": "markdown",
      "source": [
        "# 5. Travailler sur tous les billets et pièces"
      ],
      "metadata": {
        "id": "T4aK8Pz4Fji_"
      }
    },
    {
      "cell_type": "code",
      "source": [
        "liste_bill_piec = [100, 50, 20, 10, 5, 2, 1, 0.5, 0.2, 0.1, 0.05, 0.02, 0.01]"
      ],
      "metadata": {
        "id": "ChI_F0mc9fZ3"
      },
      "execution_count": 20,
      "outputs": []
    },
    {
      "cell_type": "code",
      "source": [
        "montant_achat = 26.57\n",
        "monnaie_client = 50\n",
        "a_rendre = monnaie_client - montant_achat\n",
        "a_rendre"
      ],
      "metadata": {
        "colab": {
          "base_uri": "https://localhost:8080/"
        },
        "id": "yzFYwAl_A5f-",
        "outputId": "fea0e5ef-d030-4044-c0ef-4307e85334b8"
      },
      "execution_count": 40,
      "outputs": [
        {
          "output_type": "execute_result",
          "data": {
            "text/plain": [
              "23.43"
            ]
          },
          "metadata": {},
          "execution_count": 40
        }
      ]
    },
    {
      "cell_type": "code",
      "source": [
        "### version juste pour voir si j'ai les bonnes valeurs qui s'affichent\n",
        "for i in liste_bill_piec:\n",
        "    # print(i)\n",
        "    # print(a_rendre)\n",
        "    nb_a_rendre = a_rendre // i\n",
        "    a_rendre = round(a_rendre % i, 2)\n",
        "    if nb_a_rendre > 0:\n",
        "        print(f\"{nb_a_rendre} de {i}\")\n",
        "    # print()"
      ],
      "metadata": {
        "colab": {
          "base_uri": "https://localhost:8080/"
        },
        "id": "v_5i_Y9t_33j",
        "outputId": "d40734ee-cd9c-4f70-a6dc-c0f607193235"
      },
      "execution_count": 29,
      "outputs": [
        {
          "output_type": "stream",
          "name": "stdout",
          "text": [
            "1.0 de 20\n",
            "1.0 de 2\n",
            "1.0 de 1\n",
            "2.0 de 0.2\n",
            "1.0 de 0.02\n",
            "1.0 de 0.01\n"
          ]
        }
      ]
    },
    {
      "cell_type": "code",
      "source": [
        "### version avec aspect \"métier\"\n",
        "for i in liste_bill_piec:\n",
        "    nb_a_rendre = round(a_rendre // i)\n",
        "    a_rendre = round(a_rendre % i, 2)\n",
        "    if nb_a_rendre > 0:\n",
        "        if i > 5:\n",
        "            print(f\"Nombre de billets de {i} euros : {nb_a_rendre}\")\n",
        "        elif i >= 1:\n",
        "            print(f\"Nombre de pièces de {i} euros : {nb_a_rendre}\")\n",
        "        else:\n",
        "            print(f\"Nombre de pièces de {round(i*100)} centimes : {nb_a_rendre}\")"
      ],
      "metadata": {
        "colab": {
          "base_uri": "https://localhost:8080/"
        },
        "id": "inCVmrSF_3qc",
        "outputId": "9737f676-aa38-4fd6-9200-1886196dedfa"
      },
      "execution_count": 41,
      "outputs": [
        {
          "output_type": "stream",
          "name": "stdout",
          "text": [
            "Nombre de billets de 20 euros : 1\n",
            "Nombre de pièces de 2 euros : 1\n",
            "Nombre de pièces de 1 euros : 1\n",
            "Nombre de pièces de 20 centimes : 2\n",
            "Nombre de pièces de 2 centimes : 1\n",
            "Nombre de pièces de 1 centimes : 1\n"
          ]
        }
      ]
    },
    {
      "cell_type": "code",
      "source": [],
      "metadata": {
        "id": "u0m-KPnC_3du"
      },
      "execution_count": null,
      "outputs": []
    },
    {
      "cell_type": "code",
      "source": [],
      "metadata": {
        "id": "sE2LDs7M_3Rd"
      },
      "execution_count": null,
      "outputs": []
    }
  ]
}