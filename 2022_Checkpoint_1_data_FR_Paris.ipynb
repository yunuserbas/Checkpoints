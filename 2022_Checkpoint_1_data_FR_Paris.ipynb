{
  "nbformat": 4,
  "nbformat_minor": 0,
  "metadata": {
    "colab": {
      "provenance": [],
      "collapsed_sections": [
        "815_otfHPX5a",
        "JnOBqXLAHJju",
        "A8ee8Jvy-pcL",
        "3k1iqC3wffyB",
        "To2TYJGuPwc-",
        "YSAw1n0NNBrc"
      ]
    },
    "kernelspec": {
      "name": "python3",
      "display_name": "Python 3"
    }
  },
  "cells": [
    {
      "cell_type": "markdown",
      "metadata": {
        "id": "TYrzh-8uK9ib"
      },
      "source": [
        "C'est ton premier checkpoint.\n",
        "Les 6 exercices sont indépendants. Tu peux donc les effectuer dans l'ordre que tu préfères.\n",
        "\n",
        "Essaye de finir ce checkpoint en 4h. Si tu n'as pas tout fini, ce n'est pas grave. Tu pourras le reprendre plus tard, tu indiqueras simplement en commentaire ce que tu as fait a posteriori.\n",
        "Nous t'avons indiqué des durées estimatives. Evidemment chacun a ses forces et ses faiblesses, avance donc à ton rythme. Cependant, si tu vois que tu dépasses une durée, ne reste pas bloqué, passe à l'exercice suivant. Tu pourras revenir à la fin sur ce que tu n'as pas fini."
      ]
    },
    {
      "cell_type": "markdown",
      "metadata": {
        "id": "815_otfHPX5a"
      },
      "source": [
        "#SQL - 45 min"
      ]
    },
    {
      "cell_type": "markdown",
      "metadata": {
        "id": "b2l_0IGPQgpp"
      },
      "source": [
        "A partir de la base de données client ci-dessous, crée une **requête SQL** qui fournit :\n",
        "\n",
        "1.   les noms de chaque catégorie,\n",
        "2.   le chiffre d'affaire associé à cette catégorie,\n",
        "3.   et le prix moyen pondéré des produits vendus pour cette catégorie. \n",
        "\n",
        "Le chiffre d'affaire sera arrondi à l'unité la plus proche, et le prix moyen comportera 2 décimales.\n",
        "\n",
        "Ce tableau devra être trié pour avoir les catégories avec le chiffre d'affaire le plus élevé en premier.\n",
        "\n",
        "\n",
        "*** Voici le schéma de la base ***\n",
        "*********************\n",
        "\n",
        "![](https://github.com/murpi/wilddata/blob/master/quests/orders_schema.png?raw=true)\n",
        "\n",
        "\n",
        "\n",
        "\n",
        "*** Voici les premières lignes attendues ***\n",
        "*********************\n",
        "\n",
        "Categories | Chiffre_d_affaire | Prix_moyen\n",
        "- |:-: | -:\n",
        "Beverages | 99465 | 43.45\n",
        "Dairy Products | 69921 | 26.88\n",
        "... | ... | ...\n"
      ]
    },
    {
      "cell_type": "code",
      "metadata": {
        "id": "bRd5eTTlPZIZ"
      },
      "source": [
        "# Exécute le code ci-dessous sans rien modifier\n",
        "import requests\n",
        "import sqlite3\n",
        "import pandas as pd\n",
        "r = requests.get('https://github.com/murpi/wilddata/blob/master/quests/orders.db?raw=true')\n",
        "open('orders.db', 'wb').write(r.content)\n",
        "conn = sqlite3.connect('orders.db')\n",
        "def SQL(script):\n",
        "    global conn\n",
        "    return pd.read_sql(script, conn)"
      ],
      "execution_count": null,
      "outputs": []
    },
    {
      "cell_type": "code",
      "metadata": {
        "id": "HMJ538LwOqWK",
        "colab": {
          "base_uri": "https://localhost:8080/",
          "height": 424
        },
        "outputId": "7a2b117f-d1bd-4aed-af03-750eaf9b1a31"
      },
      "source": [
        "# Modifie la requête SQL dans cette variable\n",
        "script_sql = \"\"\"\n",
        "-- Ici tu peux écrire ton code SQL\n",
        "SELECT *\n",
        "FROM ORDERS\n",
        "\n",
        "\"\"\"\n",
        "\n",
        "\n",
        "# Ne modifie rien ci-dessous pour obtenir le résultat de la requête\n",
        "SQL(script_sql)"
      ],
      "execution_count": null,
      "outputs": [
        {
          "output_type": "execute_result",
          "data": {
            "text/plain": [
              "     OrderID  CustomerID  EmployeeID   OrderDate  ShipperID\n",
              "0      10248          90           5  1996-07-04          3\n",
              "1      10249          81           6  1996-07-05          1\n",
              "2      10250          34           4  1996-07-08          2\n",
              "3      10251          84           3  1996-07-08          1\n",
              "4      10252          76           4  1996-07-09          2\n",
              "..       ...         ...         ...         ...        ...\n",
              "191    10439          51           6  1997-02-07          3\n",
              "192    10440          71           4  1997-02-10          2\n",
              "193    10441          55           3  1997-02-10          2\n",
              "194    10442          20           3  1997-02-11          2\n",
              "195    10443          66           8  1997-02-12          1\n",
              "\n",
              "[196 rows x 5 columns]"
            ],
            "text/html": [
              "\n",
              "  <div id=\"df-af57fa67-42ee-42a6-a08e-52e0ece0c433\">\n",
              "    <div class=\"colab-df-container\">\n",
              "      <div>\n",
              "<style scoped>\n",
              "    .dataframe tbody tr th:only-of-type {\n",
              "        vertical-align: middle;\n",
              "    }\n",
              "\n",
              "    .dataframe tbody tr th {\n",
              "        vertical-align: top;\n",
              "    }\n",
              "\n",
              "    .dataframe thead th {\n",
              "        text-align: right;\n",
              "    }\n",
              "</style>\n",
              "<table border=\"1\" class=\"dataframe\">\n",
              "  <thead>\n",
              "    <tr style=\"text-align: right;\">\n",
              "      <th></th>\n",
              "      <th>OrderID</th>\n",
              "      <th>CustomerID</th>\n",
              "      <th>EmployeeID</th>\n",
              "      <th>OrderDate</th>\n",
              "      <th>ShipperID</th>\n",
              "    </tr>\n",
              "  </thead>\n",
              "  <tbody>\n",
              "    <tr>\n",
              "      <th>0</th>\n",
              "      <td>10248</td>\n",
              "      <td>90</td>\n",
              "      <td>5</td>\n",
              "      <td>1996-07-04</td>\n",
              "      <td>3</td>\n",
              "    </tr>\n",
              "    <tr>\n",
              "      <th>1</th>\n",
              "      <td>10249</td>\n",
              "      <td>81</td>\n",
              "      <td>6</td>\n",
              "      <td>1996-07-05</td>\n",
              "      <td>1</td>\n",
              "    </tr>\n",
              "    <tr>\n",
              "      <th>2</th>\n",
              "      <td>10250</td>\n",
              "      <td>34</td>\n",
              "      <td>4</td>\n",
              "      <td>1996-07-08</td>\n",
              "      <td>2</td>\n",
              "    </tr>\n",
              "    <tr>\n",
              "      <th>3</th>\n",
              "      <td>10251</td>\n",
              "      <td>84</td>\n",
              "      <td>3</td>\n",
              "      <td>1996-07-08</td>\n",
              "      <td>1</td>\n",
              "    </tr>\n",
              "    <tr>\n",
              "      <th>4</th>\n",
              "      <td>10252</td>\n",
              "      <td>76</td>\n",
              "      <td>4</td>\n",
              "      <td>1996-07-09</td>\n",
              "      <td>2</td>\n",
              "    </tr>\n",
              "    <tr>\n",
              "      <th>...</th>\n",
              "      <td>...</td>\n",
              "      <td>...</td>\n",
              "      <td>...</td>\n",
              "      <td>...</td>\n",
              "      <td>...</td>\n",
              "    </tr>\n",
              "    <tr>\n",
              "      <th>191</th>\n",
              "      <td>10439</td>\n",
              "      <td>51</td>\n",
              "      <td>6</td>\n",
              "      <td>1997-02-07</td>\n",
              "      <td>3</td>\n",
              "    </tr>\n",
              "    <tr>\n",
              "      <th>192</th>\n",
              "      <td>10440</td>\n",
              "      <td>71</td>\n",
              "      <td>4</td>\n",
              "      <td>1997-02-10</td>\n",
              "      <td>2</td>\n",
              "    </tr>\n",
              "    <tr>\n",
              "      <th>193</th>\n",
              "      <td>10441</td>\n",
              "      <td>55</td>\n",
              "      <td>3</td>\n",
              "      <td>1997-02-10</td>\n",
              "      <td>2</td>\n",
              "    </tr>\n",
              "    <tr>\n",
              "      <th>194</th>\n",
              "      <td>10442</td>\n",
              "      <td>20</td>\n",
              "      <td>3</td>\n",
              "      <td>1997-02-11</td>\n",
              "      <td>2</td>\n",
              "    </tr>\n",
              "    <tr>\n",
              "      <th>195</th>\n",
              "      <td>10443</td>\n",
              "      <td>66</td>\n",
              "      <td>8</td>\n",
              "      <td>1997-02-12</td>\n",
              "      <td>1</td>\n",
              "    </tr>\n",
              "  </tbody>\n",
              "</table>\n",
              "<p>196 rows × 5 columns</p>\n",
              "</div>\n",
              "      <button class=\"colab-df-convert\" onclick=\"convertToInteractive('df-af57fa67-42ee-42a6-a08e-52e0ece0c433')\"\n",
              "              title=\"Convert this dataframe to an interactive table.\"\n",
              "              style=\"display:none;\">\n",
              "        \n",
              "  <svg xmlns=\"http://www.w3.org/2000/svg\" height=\"24px\"viewBox=\"0 0 24 24\"\n",
              "       width=\"24px\">\n",
              "    <path d=\"M0 0h24v24H0V0z\" fill=\"none\"/>\n",
              "    <path d=\"M18.56 5.44l.94 2.06.94-2.06 2.06-.94-2.06-.94-.94-2.06-.94 2.06-2.06.94zm-11 1L8.5 8.5l.94-2.06 2.06-.94-2.06-.94L8.5 2.5l-.94 2.06-2.06.94zm10 10l.94 2.06.94-2.06 2.06-.94-2.06-.94-.94-2.06-.94 2.06-2.06.94z\"/><path d=\"M17.41 7.96l-1.37-1.37c-.4-.4-.92-.59-1.43-.59-.52 0-1.04.2-1.43.59L10.3 9.45l-7.72 7.72c-.78.78-.78 2.05 0 2.83L4 21.41c.39.39.9.59 1.41.59.51 0 1.02-.2 1.41-.59l7.78-7.78 2.81-2.81c.8-.78.8-2.07 0-2.86zM5.41 20L4 18.59l7.72-7.72 1.47 1.35L5.41 20z\"/>\n",
              "  </svg>\n",
              "      </button>\n",
              "      \n",
              "  <style>\n",
              "    .colab-df-container {\n",
              "      display:flex;\n",
              "      flex-wrap:wrap;\n",
              "      gap: 12px;\n",
              "    }\n",
              "\n",
              "    .colab-df-convert {\n",
              "      background-color: #E8F0FE;\n",
              "      border: none;\n",
              "      border-radius: 50%;\n",
              "      cursor: pointer;\n",
              "      display: none;\n",
              "      fill: #1967D2;\n",
              "      height: 32px;\n",
              "      padding: 0 0 0 0;\n",
              "      width: 32px;\n",
              "    }\n",
              "\n",
              "    .colab-df-convert:hover {\n",
              "      background-color: #E2EBFA;\n",
              "      box-shadow: 0px 1px 2px rgba(60, 64, 67, 0.3), 0px 1px 3px 1px rgba(60, 64, 67, 0.15);\n",
              "      fill: #174EA6;\n",
              "    }\n",
              "\n",
              "    [theme=dark] .colab-df-convert {\n",
              "      background-color: #3B4455;\n",
              "      fill: #D2E3FC;\n",
              "    }\n",
              "\n",
              "    [theme=dark] .colab-df-convert:hover {\n",
              "      background-color: #434B5C;\n",
              "      box-shadow: 0px 1px 3px 1px rgba(0, 0, 0, 0.15);\n",
              "      filter: drop-shadow(0px 1px 2px rgba(0, 0, 0, 0.3));\n",
              "      fill: #FFFFFF;\n",
              "    }\n",
              "  </style>\n",
              "\n",
              "      <script>\n",
              "        const buttonEl =\n",
              "          document.querySelector('#df-af57fa67-42ee-42a6-a08e-52e0ece0c433 button.colab-df-convert');\n",
              "        buttonEl.style.display =\n",
              "          google.colab.kernel.accessAllowed ? 'block' : 'none';\n",
              "\n",
              "        async function convertToInteractive(key) {\n",
              "          const element = document.querySelector('#df-af57fa67-42ee-42a6-a08e-52e0ece0c433');\n",
              "          const dataTable =\n",
              "            await google.colab.kernel.invokeFunction('convertToInteractive',\n",
              "                                                     [key], {});\n",
              "          if (!dataTable) return;\n",
              "\n",
              "          const docLinkHtml = 'Like what you see? Visit the ' +\n",
              "            '<a target=\"_blank\" href=https://colab.research.google.com/notebooks/data_table.ipynb>data table notebook</a>'\n",
              "            + ' to learn more about interactive tables.';\n",
              "          element.innerHTML = '';\n",
              "          dataTable['output_type'] = 'display_data';\n",
              "          await google.colab.output.renderOutput(dataTable, element);\n",
              "          const docLink = document.createElement('div');\n",
              "          docLink.innerHTML = docLinkHtml;\n",
              "          element.appendChild(docLink);\n",
              "        }\n",
              "      </script>\n",
              "    </div>\n",
              "  </div>\n",
              "  "
            ]
          },
          "metadata": {},
          "execution_count": 2
        }
      ]
    },
    {
      "cell_type": "code",
      "source": [
        "script_sql = \"\"\" SELECT c.categoryName AS Categories, CAST(ROUND(sum(p.price*o.quantity)) as INT) AS Chiffre_d_affaire, ROUND(sum(p.price*o.quantity)/sum(o.quantity), 2) AS Prix_moyen\n",
        "FROM products p\n",
        "JOIN categories c USING (categoryID)\n",
        "JOIN order_details o USING (productID) \n",
        "GROUP BY c.categoryName\n",
        "ORDER BY Chiffre_d_affaire DESC\"\"\"\n",
        "\n",
        "SQL(script_sql)"
      ],
      "metadata": {
        "colab": {
          "base_uri": "https://localhost:8080/",
          "height": 300
        },
        "id": "5yNz9xTChKLT",
        "outputId": "7d534151-da4d-4d8a-9ff5-ad02b72e4f0b"
      },
      "execution_count": null,
      "outputs": [
        {
          "output_type": "execute_result",
          "data": {
            "text/plain": [
              "       Categories  Chiffre_d_affaire  Prix_moyen\n",
              "0       Beverages              99465       43.45\n",
              "1  Dairy Products              69921       26.88\n",
              "2     Confections              54909       26.02\n",
              "3    Meat/Poultry              51677       40.12\n",
              "4      Condiments              35072       25.36\n",
              "5         Seafood              29652       20.52\n",
              "6         Produce              23401       32.73\n",
              "7  Grains/Cereals              22328       24.48"
            ],
            "text/html": [
              "\n",
              "  <div id=\"df-3141118e-53d3-4b2b-924a-f1b1a04938e1\">\n",
              "    <div class=\"colab-df-container\">\n",
              "      <div>\n",
              "<style scoped>\n",
              "    .dataframe tbody tr th:only-of-type {\n",
              "        vertical-align: middle;\n",
              "    }\n",
              "\n",
              "    .dataframe tbody tr th {\n",
              "        vertical-align: top;\n",
              "    }\n",
              "\n",
              "    .dataframe thead th {\n",
              "        text-align: right;\n",
              "    }\n",
              "</style>\n",
              "<table border=\"1\" class=\"dataframe\">\n",
              "  <thead>\n",
              "    <tr style=\"text-align: right;\">\n",
              "      <th></th>\n",
              "      <th>Categories</th>\n",
              "      <th>Chiffre_d_affaire</th>\n",
              "      <th>Prix_moyen</th>\n",
              "    </tr>\n",
              "  </thead>\n",
              "  <tbody>\n",
              "    <tr>\n",
              "      <th>0</th>\n",
              "      <td>Beverages</td>\n",
              "      <td>99465</td>\n",
              "      <td>43.45</td>\n",
              "    </tr>\n",
              "    <tr>\n",
              "      <th>1</th>\n",
              "      <td>Dairy Products</td>\n",
              "      <td>69921</td>\n",
              "      <td>26.88</td>\n",
              "    </tr>\n",
              "    <tr>\n",
              "      <th>2</th>\n",
              "      <td>Confections</td>\n",
              "      <td>54909</td>\n",
              "      <td>26.02</td>\n",
              "    </tr>\n",
              "    <tr>\n",
              "      <th>3</th>\n",
              "      <td>Meat/Poultry</td>\n",
              "      <td>51677</td>\n",
              "      <td>40.12</td>\n",
              "    </tr>\n",
              "    <tr>\n",
              "      <th>4</th>\n",
              "      <td>Condiments</td>\n",
              "      <td>35072</td>\n",
              "      <td>25.36</td>\n",
              "    </tr>\n",
              "    <tr>\n",
              "      <th>5</th>\n",
              "      <td>Seafood</td>\n",
              "      <td>29652</td>\n",
              "      <td>20.52</td>\n",
              "    </tr>\n",
              "    <tr>\n",
              "      <th>6</th>\n",
              "      <td>Produce</td>\n",
              "      <td>23401</td>\n",
              "      <td>32.73</td>\n",
              "    </tr>\n",
              "    <tr>\n",
              "      <th>7</th>\n",
              "      <td>Grains/Cereals</td>\n",
              "      <td>22328</td>\n",
              "      <td>24.48</td>\n",
              "    </tr>\n",
              "  </tbody>\n",
              "</table>\n",
              "</div>\n",
              "      <button class=\"colab-df-convert\" onclick=\"convertToInteractive('df-3141118e-53d3-4b2b-924a-f1b1a04938e1')\"\n",
              "              title=\"Convert this dataframe to an interactive table.\"\n",
              "              style=\"display:none;\">\n",
              "        \n",
              "  <svg xmlns=\"http://www.w3.org/2000/svg\" height=\"24px\"viewBox=\"0 0 24 24\"\n",
              "       width=\"24px\">\n",
              "    <path d=\"M0 0h24v24H0V0z\" fill=\"none\"/>\n",
              "    <path d=\"M18.56 5.44l.94 2.06.94-2.06 2.06-.94-2.06-.94-.94-2.06-.94 2.06-2.06.94zm-11 1L8.5 8.5l.94-2.06 2.06-.94-2.06-.94L8.5 2.5l-.94 2.06-2.06.94zm10 10l.94 2.06.94-2.06 2.06-.94-2.06-.94-.94-2.06-.94 2.06-2.06.94z\"/><path d=\"M17.41 7.96l-1.37-1.37c-.4-.4-.92-.59-1.43-.59-.52 0-1.04.2-1.43.59L10.3 9.45l-7.72 7.72c-.78.78-.78 2.05 0 2.83L4 21.41c.39.39.9.59 1.41.59.51 0 1.02-.2 1.41-.59l7.78-7.78 2.81-2.81c.8-.78.8-2.07 0-2.86zM5.41 20L4 18.59l7.72-7.72 1.47 1.35L5.41 20z\"/>\n",
              "  </svg>\n",
              "      </button>\n",
              "      \n",
              "  <style>\n",
              "    .colab-df-container {\n",
              "      display:flex;\n",
              "      flex-wrap:wrap;\n",
              "      gap: 12px;\n",
              "    }\n",
              "\n",
              "    .colab-df-convert {\n",
              "      background-color: #E8F0FE;\n",
              "      border: none;\n",
              "      border-radius: 50%;\n",
              "      cursor: pointer;\n",
              "      display: none;\n",
              "      fill: #1967D2;\n",
              "      height: 32px;\n",
              "      padding: 0 0 0 0;\n",
              "      width: 32px;\n",
              "    }\n",
              "\n",
              "    .colab-df-convert:hover {\n",
              "      background-color: #E2EBFA;\n",
              "      box-shadow: 0px 1px 2px rgba(60, 64, 67, 0.3), 0px 1px 3px 1px rgba(60, 64, 67, 0.15);\n",
              "      fill: #174EA6;\n",
              "    }\n",
              "\n",
              "    [theme=dark] .colab-df-convert {\n",
              "      background-color: #3B4455;\n",
              "      fill: #D2E3FC;\n",
              "    }\n",
              "\n",
              "    [theme=dark] .colab-df-convert:hover {\n",
              "      background-color: #434B5C;\n",
              "      box-shadow: 0px 1px 3px 1px rgba(0, 0, 0, 0.15);\n",
              "      filter: drop-shadow(0px 1px 2px rgba(0, 0, 0, 0.3));\n",
              "      fill: #FFFFFF;\n",
              "    }\n",
              "  </style>\n",
              "\n",
              "      <script>\n",
              "        const buttonEl =\n",
              "          document.querySelector('#df-3141118e-53d3-4b2b-924a-f1b1a04938e1 button.colab-df-convert');\n",
              "        buttonEl.style.display =\n",
              "          google.colab.kernel.accessAllowed ? 'block' : 'none';\n",
              "\n",
              "        async function convertToInteractive(key) {\n",
              "          const element = document.querySelector('#df-3141118e-53d3-4b2b-924a-f1b1a04938e1');\n",
              "          const dataTable =\n",
              "            await google.colab.kernel.invokeFunction('convertToInteractive',\n",
              "                                                     [key], {});\n",
              "          if (!dataTable) return;\n",
              "\n",
              "          const docLinkHtml = 'Like what you see? Visit the ' +\n",
              "            '<a target=\"_blank\" href=https://colab.research.google.com/notebooks/data_table.ipynb>data table notebook</a>'\n",
              "            + ' to learn more about interactive tables.';\n",
              "          element.innerHTML = '';\n",
              "          dataTable['output_type'] = 'display_data';\n",
              "          await google.colab.output.renderOutput(dataTable, element);\n",
              "          const docLink = document.createElement('div');\n",
              "          docLink.innerHTML = docLinkHtml;\n",
              "          element.appendChild(docLink);\n",
              "        }\n",
              "      </script>\n",
              "    </div>\n",
              "  </div>\n",
              "  "
            ]
          },
          "metadata": {},
          "execution_count": 185
        }
      ]
    },
    {
      "cell_type": "markdown",
      "metadata": {
        "id": "JnOBqXLAHJju"
      },
      "source": [
        "# Tableur - 45 min"
      ]
    },
    {
      "cell_type": "markdown",
      "metadata": {
        "id": "i-astmsSHLGn"
      },
      "source": [
        "Le responsable du reporting mensuel est absent, et il faut absolument envoyer le reporting de chiffre d'affaire (quantité * prix de chaque produit) aujourd'hui... mais impossible de remettre la main sur le fichier du mois dernier !\n",
        "\n",
        "Heureusement, tu as trouvé comment extraire les données, [tu les trouveras ici.](https://docs.google.com/spreadsheets/d/1T7zh6Swn4Yj8Feu-xcp-B7xeOQfBoBSWn7sRjx07GvI/edit?usp=sharing)\n",
        "\n",
        "Tu vas maintenant devoir recréer un graphique qui ressemblera au maximum à celui-ci, mais en incluant les données du dernier mois. Tu en profiteras pour ajouter l'affichage des mois sous les colonnes. Tu essaieras au maximum d'utiliser les tableaux croisés dynamiques pour faire ca.\n",
        "\n",
        "Tu incluras l'image du graphique dans ce notebook, et tu indiqueras également le lien de ton google spreadsheet (ou MS Excel online) que tu auras pris soin de partager.\n",
        "\n",
        "![Tableur checkpoint](https://github.com/murpi/wilddata/raw/master/checkpoint1_withoutdate.png)"
      ]
    },
    {
      "cell_type": "markdown",
      "source": [
        "** REPONSE\n",
        "\n",
        "\n",
        "Mon google  spreadsheet > \n",
        "https://docs.google.com/spreadsheets/d/17jq-9rQqsxede8XBzc-5OWGqyUAqxzBDAh-TolGo_00/edit?usp=sharing"
      ],
      "metadata": {
        "id": "LsR1jj2QlEo2"
      }
    },
    {
      "cell_type": "markdown",
      "source": [
        "![CA Mensuel.png](data:image/png;base64,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)"
      ],
      "metadata": {
        "id": "2Pa8WULzk5VL"
      }
    },
    {
      "cell_type": "markdown",
      "source": [
        "# Python : Algo 1 Météo - 30 min\n",
        "\n",
        "Tu veux créer un script qui te dit comment t'habiller en fonction de la météo du jour :\n"
      ],
      "metadata": {
        "id": "A8ee8Jvy-pcL"
      }
    },
    {
      "cell_type": "markdown",
      "source": [
        "## 1.1 Température\n",
        "* S'il fait strictement plus de 19 degrés,  le script doit afficher \"Prends un t-shirt\"\n",
        "* S'il fait entre 12 et 19 degrés inclus, le script doit afficher \"Prends un pull\"\n",
        "* S'il fait strictement moins de 12 degrés, le script doit afficher \"Prends un manteau\"\n",
        "\n",
        "La variable température contiendra un nombre entier (nous avons mis `14` par défaut, n'hésite pas à modifier cette valeur pour tester)"
      ],
      "metadata": {
        "id": "VQLNdU9xG059"
      }
    },
    {
      "cell_type": "code",
      "source": [
        "temperature = 9\n",
        "\n",
        "# Tu écriras ton script ici :\n",
        "\n",
        "if temperature > 19:\n",
        "  print(\"Prends un t-shirt\")\n",
        "elif temperature >= 12 and temperature <= 19:\n",
        "  print(\"Prends un pull\")\n",
        "else:\n",
        "  print(\"Prends un manteau\")\n"
      ],
      "metadata": {
        "id": "SV3jcaE5-srQ",
        "colab": {
          "base_uri": "https://localhost:8080/"
        },
        "outputId": "2d8fdc0a-2e4a-4356-a8df-535e4ae434f6"
      },
      "execution_count": null,
      "outputs": [
        {
          "output_type": "stream",
          "name": "stdout",
          "text": [
            "Prends un manteau\n"
          ]
        }
      ]
    },
    {
      "cell_type": "markdown",
      "source": [
        "## 1.2 Pluie\n",
        "\n",
        "Tu va recopier ton script de la question précédente (1.1) et le modifier pour intégrer la contrainte suivante :\n",
        "* Si la variable `pluie` vaut \"YES\", alors le script affiche \"Prends un manteau\", quelle que soit la température."
      ],
      "metadata": {
        "id": "KSt8QDbJHAqm"
      }
    },
    {
      "cell_type": "code",
      "source": [
        "temperature = 21\n",
        "pluie = \"YES\"\n",
        "\n",
        "# Tu écriras ton script ici :\n",
        "\n",
        "if pluie == \"YES\":\n",
        "  print(\"Prends un manteau\")\n",
        "elif temperature > 19 and pluie != \"YES\":\n",
        "  print(\"Prends un t-shirt\")\n",
        "elif temperature >= 12 and temperature <= 19 and pluie != \"YES\":\n",
        "  print(\"Prends un pull\")\n",
        "else:\n",
        "  print(\"Prends un manteau\")\n",
        "\n"
      ],
      "metadata": {
        "id": "-7V4KUCxFT3j",
        "colab": {
          "base_uri": "https://localhost:8080/"
        },
        "outputId": "9490c625-c0aa-4478-a9ef-ff2342805184"
      },
      "execution_count": null,
      "outputs": [
        {
          "output_type": "stream",
          "name": "stdout",
          "text": [
            "Prends un manteau\n"
          ]
        }
      ]
    },
    {
      "cell_type": "markdown",
      "source": [
        "## 1.3 Opérateurs logiques (optionnel)\n",
        "\n",
        "Essaye d'écrire le script précédent (1.2) en utilisant au maximum une seule fois la commande `if` et au maximum une seule fois la commande `elif`."
      ],
      "metadata": {
        "id": "l_f-r5WFH_Xl"
      }
    },
    {
      "cell_type": "code",
      "source": [
        "# Tu écriras ton script ici :\n",
        "\n",
        "temperature = 20\n",
        "pluie = \"YES\"\n",
        "\n",
        "# Tu écriras ton script ici :\n",
        "\n",
        "if pluie == \"YES\" or temperature < 12:\n",
        "  print(\"Prends un manteau\")\n",
        "elif temperature > 19 and pluie != \"YES\":\n",
        "  print(\"Prends un t-shirt\")\n",
        "else :\n",
        "  print(\"Prends un pull\")\n"
      ],
      "metadata": {
        "id": "ztf9BPu1Ibod",
        "colab": {
          "base_uri": "https://localhost:8080/"
        },
        "outputId": "09de1c71-fd39-4b13-a461-4d940c756f50"
      },
      "execution_count": null,
      "outputs": [
        {
          "output_type": "stream",
          "name": "stdout",
          "text": [
            "Prends un manteau\n"
          ]
        }
      ]
    },
    {
      "cell_type": "markdown",
      "metadata": {
        "id": "3k1iqC3wffyB"
      },
      "source": [
        "# Python : Algo 2 - 30 min\n",
        "\n",
        "Un magasin importe des produits américains et les revend sur le marché européen. Il propose à ses clients un discount pour les produits les plus chers (10% de réduction à partir de 500 euros d'achat, 15% à partir de 1000 euros, et 20% à partir de 2000 euros).\n",
        "\n",
        "Le magasin a une liste de prix en dollars et fait appel à tes services pour déterminer pour chaque prix, le montant que paiera le client en euros (après application de la remise). \n"
      ]
    },
    {
      "cell_type": "markdown",
      "metadata": {
        "id": "YWW9llTJhEMT"
      },
      "source": [
        "## Python 2.1 dollar_to_euro\n",
        "Crée une fonction `dollar_to_euro` qui prend en paramètre un nombre décimal et retourne le montant converti en euro (dans le sens dollar vers euro, prends le taux en vigueur le jour du checkpoint)."
      ]
    },
    {
      "cell_type": "code",
      "metadata": {
        "id": "dQeMAFaahD81",
        "colab": {
          "base_uri": "https://localhost:8080/"
        },
        "outputId": "bde801c9-9f9e-4b64-a6d9-bd6fe5d6c442"
      },
      "source": [
        "# For now, 1 dollar = 1.03 euro\n",
        "\n",
        "def dollar_to_euro(dollar):\n",
        "\n",
        "  return dollar*1.03\n",
        "\n",
        "dollar_to_euro(int(input(\"Enter a number: \")))\n",
        " \n",
        "\n"
      ],
      "execution_count": null,
      "outputs": [
        {
          "name": "stdout",
          "output_type": "stream",
          "text": [
            "Enter a number: 2\n"
          ]
        },
        {
          "output_type": "execute_result",
          "data": {
            "text/plain": [
              "2.06"
            ]
          },
          "metadata": {},
          "execution_count": 66
        }
      ]
    },
    {
      "cell_type": "markdown",
      "metadata": {
        "id": "GP0WRUWskAxN"
      },
      "source": [
        "## Python 2.2 discount\n",
        "Crée une fonction `discount` qui prend en paramètre un nombre décimal et retourne le pourcentage de réduction :\n",
        "- 0.10 si l'argument est supérieur à 500\n",
        "- 0.15 si l'argument est supérieur à 1000\n",
        "- 0.20 si l'argument est supérieur à 2000"
      ]
    },
    {
      "cell_type": "code",
      "metadata": {
        "id": "54K2IrDrj_p-",
        "colab": {
          "base_uri": "https://localhost:8080/"
        },
        "outputId": "4baf273c-5993-40b6-ab97-598bd1270bb9"
      },
      "source": [
        "def discount(number):\n",
        "  if 1000 >= number > 500:\n",
        "    number = number - (number*0.10)\n",
        "  elif 2000 >= number > 1000:\n",
        "    number = number - (number*0.15)\n",
        "  elif number > 2000:\n",
        "    number = number - (number*0.20)\n",
        "  return number\n",
        "\n",
        "discount(int(input(\"Enter a price: \")))"
      ],
      "execution_count": null,
      "outputs": [
        {
          "name": "stdout",
          "output_type": "stream",
          "text": [
            "Enter a price: 2000\n"
          ]
        },
        {
          "output_type": "execute_result",
          "data": {
            "text/plain": [
              "1700.0"
            ]
          },
          "metadata": {},
          "execution_count": 25
        }
      ]
    },
    {
      "cell_type": "markdown",
      "metadata": {
        "id": "2UDkCCsOkkfI"
      },
      "source": [
        "## Python 2.3 Utilisation\n",
        "Utilise tes deux fonctions pour **afficher une phrase** pour chacun des montants de cette liste de prix en dollars, indiquant le montant à payer en euros.\n",
        "Tu dois donc appliquer d'abord la fonction de conversion pour obtenir des euros, puis la fonction de discount, puis afficher une phrase à partir du résultat."
      ]
    },
    {
      "cell_type": "code",
      "metadata": {
        "id": "zJwtL9H_kxXR",
        "colab": {
          "base_uri": "https://localhost:8080/"
        },
        "outputId": "c0f9ecfc-fcd2-4658-d941-306a4510f70d"
      },
      "source": [
        "price_list = [256, 1458, 2387, 669, 508, 1365]\n",
        "price_euro =[]\n",
        "for i in price_list:\n",
        "  a = dollar_to_euro(i)\n",
        "  price_euro.append(a)\n",
        "\n",
        "price_euro\n",
        "discount_list =[]\n",
        "for y in price_euro:\n",
        "  b = discount(y)\n",
        "  discount_list.append(b)\n",
        "  if y not in discount_list:\n",
        "     print(f\"Le prix est {y} en euro. Le nouveau prix avec le discount est {discount(y)}.\")\n",
        "  else:\n",
        "     print(f\"Le prix est {y} en euro. Il n'y a pas de discount pour ce prix.\")\n",
        "\n",
        "\n",
        "\n",
        "\n"
      ],
      "execution_count": null,
      "outputs": [
        {
          "output_type": "stream",
          "name": "stdout",
          "text": [
            "Le prix est 263.68 en euro. Il n'y a pas de discount pour ce prix.\n",
            "Le prix est 1501.74 en euro. Le nouveau prix avec le discount est 1276.479.\n",
            "Le prix est 2458.61 en euro. Le nouveau prix avec le discount est 1966.8880000000001.\n",
            "Le prix est 689.07 en euro. Le nouveau prix avec le discount est 620.163.\n",
            "Le prix est 523.24 en euro. Le nouveau prix avec le discount est 470.916.\n",
            "Le prix est 1405.95 en euro. Le nouveau prix avec le discount est 1195.0575000000001.\n"
          ]
        }
      ]
    },
    {
      "cell_type": "markdown",
      "metadata": {
        "id": "To2TYJGuPwc-"
      },
      "source": [
        "# Python : Algo 3 - 1h"
      ]
    },
    {
      "cell_type": "markdown",
      "metadata": {
        "id": "B0XiM5wcQbY8"
      },
      "source": [
        "Ecris une fonction *monnaie_a_rendre()* qui prend deux arguments obligatoires : \n",
        "- montant de l'achat : float, supérieur à 0\n",
        "- monnaie du client : integer, supérieur à 0\n",
        "\n",
        "La fonction devra afficher la monnaie à rendre au client en un minimum de billets/pièces. \n",
        "\n",
        "Attention, si la monnaie du client est insuffisante (inférieure à l'achat), il faudra l'indiquer.\n",
        "\n",
        "Exemple : \n",
        "\n",
        "\n",
        "```\n",
        "monnaie_a_rendre(26.57 , 40)\n",
        ">>> Nb billets 10 euros : 1\n",
        ">>> Nb pièces 2 euros : 1\n",
        ">>> Nb pièces 1 euro : 1\n",
        ">>> Nb pièces 20 cents : 2\n",
        ">>> Nb pièces 2 cents : 1\n",
        ">>> Nb pièces 1 cent : 1\n",
        "```\n",
        "\n"
      ]
    },
    {
      "cell_type": "code",
      "metadata": {
        "id": "6alG3GNPPv5U",
        "colab": {
          "base_uri": "https://localhost:8080/"
        },
        "outputId": "7e11d82a-dbfc-478d-e874-4c9b44a53bc1"
      },
      "source": [
        "# Ta fonction ici :\n",
        "from decimal import Decimal\n",
        "\n",
        "def monnaie_a_rendre(achat, monnaie):\n",
        "  remainder = monnaie - achat\n",
        "  if Decimal(remainder) % Decimal(10) != 0:\n",
        "    a = Decimal(remainder) % Decimal(10)\n",
        "    print(f\" Nb billets 10 euros : {Decimal(remainder) // Decimal(10)}\")\n",
        "    if Decimal(a) % Decimal(2) != 0:\n",
        "      b = Decimal(a) % Decimal(2)\n",
        "      print(f\" Nb pièces 2 euros : {Decimal(a) // Decimal(2)}\")\n",
        "      if Decimal(b) % Decimal(1) != 0:\n",
        "        c = Decimal(b) % Decimal(1)\n",
        "        print(f\" Nb pièces 1 euro : {Decimal(b) // Decimal(1)}\")\n",
        "        if Decimal(c) % Decimal(0.20) != 0:\n",
        "          d = Decimal(c) % Decimal(0.20)\n",
        "          print(f\" Nb pièces 20 cents : {Decimal(c) // Decimal(0.20)}\")\n",
        "          if Decimal(d) % Decimal(0.02) != 0:\n",
        "            e = Decimal(d) % Decimal(0.02)\n",
        "            print(f\" Nb pièces 2 cents : {Decimal(d) // Decimal(0.02)}\")\n",
        "            if Decimal(e) % Decimal(0.01) != 0:\n",
        "              print(f\" Nb pièces 1 cent : {Decimal(e) // Decimal(0.01)}\")\n",
        "            else:\n",
        "              print(f\" Nb pièces 1 cent : {Decimal(e) // Decimal(0.01)}\")\n",
        "          else:\n",
        "            print(f\" Nb pièces 2 cents : {Decimal(d) // Decimal(0.02)}\")\n",
        "        else:\n",
        "          print(f\" Nb pièces 20 cents : {Decimal(c) // Decimal(0.20)}\")\n",
        "      else:\n",
        "        print(f\" Nb pièces 1 euro : {Decimal(b) // Decimal(1)}\")\n",
        "    else:\n",
        "      print(f\" Nb pièces 2 euros : {Decimal(a) // Decimal(2)}\")\n",
        "  else:\n",
        "   print(f\" Nb billets 10 euros : {Decimal(remainder) // Decimal(10)}\")\n",
        "\n",
        "monnaie_a_rendre(26.57, 40)"
      ],
      "execution_count": null,
      "outputs": [
        {
          "output_type": "stream",
          "name": "stdout",
          "text": [
            " Nb billets 10 euros : 1\n",
            " Nb pièces 2 euros : 1\n",
            " Nb pièces 1 euro : 1\n",
            " Nb pièces 20 cents : 2\n",
            " Nb pièces 2 cents : 1\n",
            " Nb pièces 1 cent : 0\n"
          ]
        }
      ]
    },
    {
      "cell_type": "code",
      "metadata": {
        "id": "p2PCEpAxI20Q",
        "colab": {
          "base_uri": "https://localhost:8080/"
        },
        "outputId": "32be5999-4fce-434d-a9d9-92e81e33512f"
      },
      "source": [
        "# Pour tester :\n",
        "     \n",
        "monnaie_a_rendre(26.57, 40)\n"
      ],
      "execution_count": null,
      "outputs": [
        {
          "output_type": "stream",
          "name": "stdout",
          "text": [
            " Nb billets 10 euros : 1\n",
            " Nb pièces 2 euros : 1\n",
            " Nb pièces 1 euro : 1\n",
            " Nb pièces 20 cents : 2\n",
            " Nb pièces 2 cents : 1\n",
            " Nb pièces 1 cent : 0\n"
          ]
        }
      ]
    },
    {
      "cell_type": "markdown",
      "metadata": {
        "id": "YSAw1n0NNBrc"
      },
      "source": [
        "# Pandas - 30 min\n",
        "Exécute le code suivant, puis réponds aux questions.\n",
        "\n",
        "Le DataFrame contient 3 colonnes."
      ]
    },
    {
      "cell_type": "code",
      "metadata": {
        "id": "W35UE3f6BhC2",
        "colab": {
          "base_uri": "https://localhost:8080/"
        },
        "outputId": "6801179c-2aa0-47c1-d345-f713574979ea"
      },
      "source": [
        "# Exécute le code ci-dessous sans rien modifier\n",
        "import pandas as pd\n",
        "temperatures_df = pd.read_csv(\"https://raw.githubusercontent.com/murpi/wilddata/master/temp2019.csv\", skiprows = 3)\n",
        "temperatures_df.index = temperatures_df[\"DATE\"]\n",
        "temperatures_df = temperatures_df[[\"MAX_TEMPERATURE_C\", \"MIN_TEMPERATURE_C\", \"WINDSPEED_MAX_KMH\"]]\n",
        "print(\"C'est chargé, ton DataFrame Pandas est disponible sous le nom de variable : temperatures_df\")\n"
      ],
      "execution_count": null,
      "outputs": [
        {
          "output_type": "stream",
          "name": "stdout",
          "text": [
            "C'est chargé, ton DataFrame Pandas est disponible sous le nom de variable : temperatures_df\n"
          ]
        }
      ]
    },
    {
      "cell_type": "code",
      "source": [
        "temperatures_df"
      ],
      "metadata": {
        "colab": {
          "base_uri": "https://localhost:8080/",
          "height": 455
        },
        "id": "ukq4iF1XfqKo",
        "outputId": "e2ad5cce-8e33-4b21-ed3e-be7ddf1bf6c7"
      },
      "execution_count": null,
      "outputs": [
        {
          "output_type": "execute_result",
          "data": {
            "text/plain": [
              "            MAX_TEMPERATURE_C  MIN_TEMPERATURE_C  WINDSPEED_MAX_KMH  DATE\n",
              "DATE                                                                     \n",
              "2019-01-01                  9                  4                 10  1976\n",
              "2019-01-02                  8                  5                 18  1976\n",
              "2019-01-03                  6                  0                 18  1976\n",
              "2019-01-04                  5                 -1                 15  1976\n",
              "2019-01-05                  6                 -1                  8  1976\n",
              "...                       ...                ...                ...   ...\n",
              "2019-12-27                 13                 10                 13  1976\n",
              "2019-12-28                 11                  5                 12  1976\n",
              "2019-12-29                  9                  2                 11  1976\n",
              "2019-12-30                 12                  4                  7  1976\n",
              "2019-12-31                 10                  4                 13  1976\n",
              "\n",
              "[365 rows x 4 columns]"
            ],
            "text/html": [
              "\n",
              "  <div id=\"df-3ef15074-29b4-4ee2-9a50-05f8e32d997c\">\n",
              "    <div class=\"colab-df-container\">\n",
              "      <div>\n",
              "<style scoped>\n",
              "    .dataframe tbody tr th:only-of-type {\n",
              "        vertical-align: middle;\n",
              "    }\n",
              "\n",
              "    .dataframe tbody tr th {\n",
              "        vertical-align: top;\n",
              "    }\n",
              "\n",
              "    .dataframe thead th {\n",
              "        text-align: right;\n",
              "    }\n",
              "</style>\n",
              "<table border=\"1\" class=\"dataframe\">\n",
              "  <thead>\n",
              "    <tr style=\"text-align: right;\">\n",
              "      <th></th>\n",
              "      <th>MAX_TEMPERATURE_C</th>\n",
              "      <th>MIN_TEMPERATURE_C</th>\n",
              "      <th>WINDSPEED_MAX_KMH</th>\n",
              "      <th>DATE</th>\n",
              "    </tr>\n",
              "    <tr>\n",
              "      <th>DATE</th>\n",
              "      <th></th>\n",
              "      <th></th>\n",
              "      <th></th>\n",
              "      <th></th>\n",
              "    </tr>\n",
              "  </thead>\n",
              "  <tbody>\n",
              "    <tr>\n",
              "      <th>2019-01-01</th>\n",
              "      <td>9</td>\n",
              "      <td>4</td>\n",
              "      <td>10</td>\n",
              "      <td>1976</td>\n",
              "    </tr>\n",
              "    <tr>\n",
              "      <th>2019-01-02</th>\n",
              "      <td>8</td>\n",
              "      <td>5</td>\n",
              "      <td>18</td>\n",
              "      <td>1976</td>\n",
              "    </tr>\n",
              "    <tr>\n",
              "      <th>2019-01-03</th>\n",
              "      <td>6</td>\n",
              "      <td>0</td>\n",
              "      <td>18</td>\n",
              "      <td>1976</td>\n",
              "    </tr>\n",
              "    <tr>\n",
              "      <th>2019-01-04</th>\n",
              "      <td>5</td>\n",
              "      <td>-1</td>\n",
              "      <td>15</td>\n",
              "      <td>1976</td>\n",
              "    </tr>\n",
              "    <tr>\n",
              "      <th>2019-01-05</th>\n",
              "      <td>6</td>\n",
              "      <td>-1</td>\n",
              "      <td>8</td>\n",
              "      <td>1976</td>\n",
              "    </tr>\n",
              "    <tr>\n",
              "      <th>...</th>\n",
              "      <td>...</td>\n",
              "      <td>...</td>\n",
              "      <td>...</td>\n",
              "      <td>...</td>\n",
              "    </tr>\n",
              "    <tr>\n",
              "      <th>2019-12-27</th>\n",
              "      <td>13</td>\n",
              "      <td>10</td>\n",
              "      <td>13</td>\n",
              "      <td>1976</td>\n",
              "    </tr>\n",
              "    <tr>\n",
              "      <th>2019-12-28</th>\n",
              "      <td>11</td>\n",
              "      <td>5</td>\n",
              "      <td>12</td>\n",
              "      <td>1976</td>\n",
              "    </tr>\n",
              "    <tr>\n",
              "      <th>2019-12-29</th>\n",
              "      <td>9</td>\n",
              "      <td>2</td>\n",
              "      <td>11</td>\n",
              "      <td>1976</td>\n",
              "    </tr>\n",
              "    <tr>\n",
              "      <th>2019-12-30</th>\n",
              "      <td>12</td>\n",
              "      <td>4</td>\n",
              "      <td>7</td>\n",
              "      <td>1976</td>\n",
              "    </tr>\n",
              "    <tr>\n",
              "      <th>2019-12-31</th>\n",
              "      <td>10</td>\n",
              "      <td>4</td>\n",
              "      <td>13</td>\n",
              "      <td>1976</td>\n",
              "    </tr>\n",
              "  </tbody>\n",
              "</table>\n",
              "<p>365 rows × 4 columns</p>\n",
              "</div>\n",
              "      <button class=\"colab-df-convert\" onclick=\"convertToInteractive('df-3ef15074-29b4-4ee2-9a50-05f8e32d997c')\"\n",
              "              title=\"Convert this dataframe to an interactive table.\"\n",
              "              style=\"display:none;\">\n",
              "        \n",
              "  <svg xmlns=\"http://www.w3.org/2000/svg\" height=\"24px\"viewBox=\"0 0 24 24\"\n",
              "       width=\"24px\">\n",
              "    <path d=\"M0 0h24v24H0V0z\" fill=\"none\"/>\n",
              "    <path d=\"M18.56 5.44l.94 2.06.94-2.06 2.06-.94-2.06-.94-.94-2.06-.94 2.06-2.06.94zm-11 1L8.5 8.5l.94-2.06 2.06-.94-2.06-.94L8.5 2.5l-.94 2.06-2.06.94zm10 10l.94 2.06.94-2.06 2.06-.94-2.06-.94-.94-2.06-.94 2.06-2.06.94z\"/><path d=\"M17.41 7.96l-1.37-1.37c-.4-.4-.92-.59-1.43-.59-.52 0-1.04.2-1.43.59L10.3 9.45l-7.72 7.72c-.78.78-.78 2.05 0 2.83L4 21.41c.39.39.9.59 1.41.59.51 0 1.02-.2 1.41-.59l7.78-7.78 2.81-2.81c.8-.78.8-2.07 0-2.86zM5.41 20L4 18.59l7.72-7.72 1.47 1.35L5.41 20z\"/>\n",
              "  </svg>\n",
              "      </button>\n",
              "      \n",
              "  <style>\n",
              "    .colab-df-container {\n",
              "      display:flex;\n",
              "      flex-wrap:wrap;\n",
              "      gap: 12px;\n",
              "    }\n",
              "\n",
              "    .colab-df-convert {\n",
              "      background-color: #E8F0FE;\n",
              "      border: none;\n",
              "      border-radius: 50%;\n",
              "      cursor: pointer;\n",
              "      display: none;\n",
              "      fill: #1967D2;\n",
              "      height: 32px;\n",
              "      padding: 0 0 0 0;\n",
              "      width: 32px;\n",
              "    }\n",
              "\n",
              "    .colab-df-convert:hover {\n",
              "      background-color: #E2EBFA;\n",
              "      box-shadow: 0px 1px 2px rgba(60, 64, 67, 0.3), 0px 1px 3px 1px rgba(60, 64, 67, 0.15);\n",
              "      fill: #174EA6;\n",
              "    }\n",
              "\n",
              "    [theme=dark] .colab-df-convert {\n",
              "      background-color: #3B4455;\n",
              "      fill: #D2E3FC;\n",
              "    }\n",
              "\n",
              "    [theme=dark] .colab-df-convert:hover {\n",
              "      background-color: #434B5C;\n",
              "      box-shadow: 0px 1px 3px 1px rgba(0, 0, 0, 0.15);\n",
              "      filter: drop-shadow(0px 1px 2px rgba(0, 0, 0, 0.3));\n",
              "      fill: #FFFFFF;\n",
              "    }\n",
              "  </style>\n",
              "\n",
              "      <script>\n",
              "        const buttonEl =\n",
              "          document.querySelector('#df-3ef15074-29b4-4ee2-9a50-05f8e32d997c button.colab-df-convert');\n",
              "        buttonEl.style.display =\n",
              "          google.colab.kernel.accessAllowed ? 'block' : 'none';\n",
              "\n",
              "        async function convertToInteractive(key) {\n",
              "          const element = document.querySelector('#df-3ef15074-29b4-4ee2-9a50-05f8e32d997c');\n",
              "          const dataTable =\n",
              "            await google.colab.kernel.invokeFunction('convertToInteractive',\n",
              "                                                     [key], {});\n",
              "          if (!dataTable) return;\n",
              "\n",
              "          const docLinkHtml = 'Like what you see? Visit the ' +\n",
              "            '<a target=\"_blank\" href=https://colab.research.google.com/notebooks/data_table.ipynb>data table notebook</a>'\n",
              "            + ' to learn more about interactive tables.';\n",
              "          element.innerHTML = '';\n",
              "          dataTable['output_type'] = 'display_data';\n",
              "          await google.colab.output.renderOutput(dataTable, element);\n",
              "          const docLink = document.createElement('div');\n",
              "          docLink.innerHTML = docLinkHtml;\n",
              "          element.appendChild(docLink);\n",
              "        }\n",
              "      </script>\n",
              "    </div>\n",
              "  </div>\n",
              "  "
            ]
          },
          "metadata": {},
          "execution_count": 106
        }
      ]
    },
    {
      "cell_type": "markdown",
      "source": [
        "## Question Pandas 1"
      ],
      "metadata": {
        "id": "KkEM6yKZKY-X"
      }
    },
    {
      "cell_type": "code",
      "metadata": {
        "id": "-i5BncuMRJl1",
        "colab": {
          "base_uri": "https://localhost:8080/"
        },
        "outputId": "72b55c50-4a12-4496-9665-a43d1e473402"
      },
      "source": [
        "# Combien y a-t-il de lignes dans le DataFrame ?\n",
        "\n",
        "# Le fonction \"shape\" affiche les nombres des lignes et des colonnes. Ici, il y a 356 lignes et 3 colonnes.\n",
        "temperatures_df.shape"
      ],
      "execution_count": null,
      "outputs": [
        {
          "output_type": "execute_result",
          "data": {
            "text/plain": [
              "(365, 3)"
            ]
          },
          "metadata": {},
          "execution_count": 90
        }
      ]
    },
    {
      "cell_type": "markdown",
      "source": [
        "## Question Pandas 2"
      ],
      "metadata": {
        "id": "mpRtiSN2KaaQ"
      }
    },
    {
      "cell_type": "code",
      "metadata": {
        "id": "zH697iMjN-lP",
        "colab": {
          "base_uri": "https://localhost:8080/",
          "height": 112
        },
        "outputId": "664af8a2-3c78-4258-c3a6-b8b2ccfbe39d"
      },
      "source": [
        "# Affiche la dernière ligne du DataFrame\n",
        "\n",
        "temperatures_df.iloc[[-1]]"
      ],
      "execution_count": null,
      "outputs": [
        {
          "output_type": "execute_result",
          "data": {
            "text/plain": [
              "            MAX_TEMPERATURE_C  MIN_TEMPERATURE_C  WINDSPEED_MAX_KMH  DATE\n",
              "DATE                                                                     \n",
              "2019-12-31                 10                  4                 13  1976"
            ],
            "text/html": [
              "\n",
              "  <div id=\"df-3383b19c-14c1-494e-990a-4f141798a1f0\">\n",
              "    <div class=\"colab-df-container\">\n",
              "      <div>\n",
              "<style scoped>\n",
              "    .dataframe tbody tr th:only-of-type {\n",
              "        vertical-align: middle;\n",
              "    }\n",
              "\n",
              "    .dataframe tbody tr th {\n",
              "        vertical-align: top;\n",
              "    }\n",
              "\n",
              "    .dataframe thead th {\n",
              "        text-align: right;\n",
              "    }\n",
              "</style>\n",
              "<table border=\"1\" class=\"dataframe\">\n",
              "  <thead>\n",
              "    <tr style=\"text-align: right;\">\n",
              "      <th></th>\n",
              "      <th>MAX_TEMPERATURE_C</th>\n",
              "      <th>MIN_TEMPERATURE_C</th>\n",
              "      <th>WINDSPEED_MAX_KMH</th>\n",
              "      <th>DATE</th>\n",
              "    </tr>\n",
              "    <tr>\n",
              "      <th>DATE</th>\n",
              "      <th></th>\n",
              "      <th></th>\n",
              "      <th></th>\n",
              "      <th></th>\n",
              "    </tr>\n",
              "  </thead>\n",
              "  <tbody>\n",
              "    <tr>\n",
              "      <th>2019-12-31</th>\n",
              "      <td>10</td>\n",
              "      <td>4</td>\n",
              "      <td>13</td>\n",
              "      <td>1976</td>\n",
              "    </tr>\n",
              "  </tbody>\n",
              "</table>\n",
              "</div>\n",
              "      <button class=\"colab-df-convert\" onclick=\"convertToInteractive('df-3383b19c-14c1-494e-990a-4f141798a1f0')\"\n",
              "              title=\"Convert this dataframe to an interactive table.\"\n",
              "              style=\"display:none;\">\n",
              "        \n",
              "  <svg xmlns=\"http://www.w3.org/2000/svg\" height=\"24px\"viewBox=\"0 0 24 24\"\n",
              "       width=\"24px\">\n",
              "    <path d=\"M0 0h24v24H0V0z\" fill=\"none\"/>\n",
              "    <path d=\"M18.56 5.44l.94 2.06.94-2.06 2.06-.94-2.06-.94-.94-2.06-.94 2.06-2.06.94zm-11 1L8.5 8.5l.94-2.06 2.06-.94-2.06-.94L8.5 2.5l-.94 2.06-2.06.94zm10 10l.94 2.06.94-2.06 2.06-.94-2.06-.94-.94-2.06-.94 2.06-2.06.94z\"/><path d=\"M17.41 7.96l-1.37-1.37c-.4-.4-.92-.59-1.43-.59-.52 0-1.04.2-1.43.59L10.3 9.45l-7.72 7.72c-.78.78-.78 2.05 0 2.83L4 21.41c.39.39.9.59 1.41.59.51 0 1.02-.2 1.41-.59l7.78-7.78 2.81-2.81c.8-.78.8-2.07 0-2.86zM5.41 20L4 18.59l7.72-7.72 1.47 1.35L5.41 20z\"/>\n",
              "  </svg>\n",
              "      </button>\n",
              "      \n",
              "  <style>\n",
              "    .colab-df-container {\n",
              "      display:flex;\n",
              "      flex-wrap:wrap;\n",
              "      gap: 12px;\n",
              "    }\n",
              "\n",
              "    .colab-df-convert {\n",
              "      background-color: #E8F0FE;\n",
              "      border: none;\n",
              "      border-radius: 50%;\n",
              "      cursor: pointer;\n",
              "      display: none;\n",
              "      fill: #1967D2;\n",
              "      height: 32px;\n",
              "      padding: 0 0 0 0;\n",
              "      width: 32px;\n",
              "    }\n",
              "\n",
              "    .colab-df-convert:hover {\n",
              "      background-color: #E2EBFA;\n",
              "      box-shadow: 0px 1px 2px rgba(60, 64, 67, 0.3), 0px 1px 3px 1px rgba(60, 64, 67, 0.15);\n",
              "      fill: #174EA6;\n",
              "    }\n",
              "\n",
              "    [theme=dark] .colab-df-convert {\n",
              "      background-color: #3B4455;\n",
              "      fill: #D2E3FC;\n",
              "    }\n",
              "\n",
              "    [theme=dark] .colab-df-convert:hover {\n",
              "      background-color: #434B5C;\n",
              "      box-shadow: 0px 1px 3px 1px rgba(0, 0, 0, 0.15);\n",
              "      filter: drop-shadow(0px 1px 2px rgba(0, 0, 0, 0.3));\n",
              "      fill: #FFFFFF;\n",
              "    }\n",
              "  </style>\n",
              "\n",
              "      <script>\n",
              "        const buttonEl =\n",
              "          document.querySelector('#df-3383b19c-14c1-494e-990a-4f141798a1f0 button.colab-df-convert');\n",
              "        buttonEl.style.display =\n",
              "          google.colab.kernel.accessAllowed ? 'block' : 'none';\n",
              "\n",
              "        async function convertToInteractive(key) {\n",
              "          const element = document.querySelector('#df-3383b19c-14c1-494e-990a-4f141798a1f0');\n",
              "          const dataTable =\n",
              "            await google.colab.kernel.invokeFunction('convertToInteractive',\n",
              "                                                     [key], {});\n",
              "          if (!dataTable) return;\n",
              "\n",
              "          const docLinkHtml = 'Like what you see? Visit the ' +\n",
              "            '<a target=\"_blank\" href=https://colab.research.google.com/notebooks/data_table.ipynb>data table notebook</a>'\n",
              "            + ' to learn more about interactive tables.';\n",
              "          element.innerHTML = '';\n",
              "          dataTable['output_type'] = 'display_data';\n",
              "          await google.colab.output.renderOutput(dataTable, element);\n",
              "          const docLink = document.createElement('div');\n",
              "          docLink.innerHTML = docLinkHtml;\n",
              "          element.appendChild(docLink);\n",
              "        }\n",
              "      </script>\n",
              "    </div>\n",
              "  </div>\n",
              "  "
            ]
          },
          "metadata": {},
          "execution_count": 113
        }
      ]
    },
    {
      "cell_type": "markdown",
      "metadata": {
        "id": "H-azX8nUNO9_"
      },
      "source": [
        "## Question Pandas 3"
      ]
    },
    {
      "cell_type": "code",
      "metadata": {
        "id": "gXAfaemhNkzC",
        "colab": {
          "base_uri": "https://localhost:8080/"
        },
        "outputId": "3487f9cd-efac-48f8-8d13-b690fb434f6b"
      },
      "source": [
        "# Quelle a été la température minimale de la journée du 17 janvier 2019 ?\n",
        "\n",
        "temperatures_df.loc[\"2019-01-17\", \"MIN_TEMPERATURE_C\"]"
      ],
      "execution_count": null,
      "outputs": [
        {
          "output_type": "execute_result",
          "data": {
            "text/plain": [
              "5"
            ]
          },
          "metadata": {},
          "execution_count": 225
        }
      ]
    },
    {
      "cell_type": "markdown",
      "source": [
        "## Question Pandas 4"
      ],
      "metadata": {
        "id": "5QPt6248gg-K"
      }
    },
    {
      "cell_type": "code",
      "source": [
        "# Affiche un DataFrame avec les 3 colonnes et uniquement les jours où la vitesse du vent a été supérieure à 40 km/h\n",
        "# Combien y a-t-il eu de jours concernés ?\n",
        "\n",
        "temperatures_df.loc[temperatures_df[\"WINDSPEED_MAX_KMH\"] > 40]\n",
        "\n",
        "# Il y a que trois jours où la vitesse du vent a été supérieure à 40 km/h."
      ],
      "metadata": {
        "id": "i9SJSx7RgkR5",
        "colab": {
          "base_uri": "https://localhost:8080/",
          "height": 175
        },
        "outputId": "0a956a01-3212-4d86-fb10-39d1f99e9f29"
      },
      "execution_count": null,
      "outputs": [
        {
          "output_type": "execute_result",
          "data": {
            "text/plain": [
              "            MAX_TEMPERATURE_C  MIN_TEMPERATURE_C  WINDSPEED_MAX_KMH  DATE\n",
              "DATE                                                                     \n",
              "2019-03-04                 11                  7                 46  1976\n",
              "2019-06-07                 15                 13                 42  1976\n",
              "2019-09-29                 20                 13                 41  1976"
            ],
            "text/html": [
              "\n",
              "  <div id=\"df-2cd0c971-1019-4efd-a4e7-cc9a63205f63\">\n",
              "    <div class=\"colab-df-container\">\n",
              "      <div>\n",
              "<style scoped>\n",
              "    .dataframe tbody tr th:only-of-type {\n",
              "        vertical-align: middle;\n",
              "    }\n",
              "\n",
              "    .dataframe tbody tr th {\n",
              "        vertical-align: top;\n",
              "    }\n",
              "\n",
              "    .dataframe thead th {\n",
              "        text-align: right;\n",
              "    }\n",
              "</style>\n",
              "<table border=\"1\" class=\"dataframe\">\n",
              "  <thead>\n",
              "    <tr style=\"text-align: right;\">\n",
              "      <th></th>\n",
              "      <th>MAX_TEMPERATURE_C</th>\n",
              "      <th>MIN_TEMPERATURE_C</th>\n",
              "      <th>WINDSPEED_MAX_KMH</th>\n",
              "      <th>DATE</th>\n",
              "    </tr>\n",
              "    <tr>\n",
              "      <th>DATE</th>\n",
              "      <th></th>\n",
              "      <th></th>\n",
              "      <th></th>\n",
              "      <th></th>\n",
              "    </tr>\n",
              "  </thead>\n",
              "  <tbody>\n",
              "    <tr>\n",
              "      <th>2019-03-04</th>\n",
              "      <td>11</td>\n",
              "      <td>7</td>\n",
              "      <td>46</td>\n",
              "      <td>1976</td>\n",
              "    </tr>\n",
              "    <tr>\n",
              "      <th>2019-06-07</th>\n",
              "      <td>15</td>\n",
              "      <td>13</td>\n",
              "      <td>42</td>\n",
              "      <td>1976</td>\n",
              "    </tr>\n",
              "    <tr>\n",
              "      <th>2019-09-29</th>\n",
              "      <td>20</td>\n",
              "      <td>13</td>\n",
              "      <td>41</td>\n",
              "      <td>1976</td>\n",
              "    </tr>\n",
              "  </tbody>\n",
              "</table>\n",
              "</div>\n",
              "      <button class=\"colab-df-convert\" onclick=\"convertToInteractive('df-2cd0c971-1019-4efd-a4e7-cc9a63205f63')\"\n",
              "              title=\"Convert this dataframe to an interactive table.\"\n",
              "              style=\"display:none;\">\n",
              "        \n",
              "  <svg xmlns=\"http://www.w3.org/2000/svg\" height=\"24px\"viewBox=\"0 0 24 24\"\n",
              "       width=\"24px\">\n",
              "    <path d=\"M0 0h24v24H0V0z\" fill=\"none\"/>\n",
              "    <path d=\"M18.56 5.44l.94 2.06.94-2.06 2.06-.94-2.06-.94-.94-2.06-.94 2.06-2.06.94zm-11 1L8.5 8.5l.94-2.06 2.06-.94-2.06-.94L8.5 2.5l-.94 2.06-2.06.94zm10 10l.94 2.06.94-2.06 2.06-.94-2.06-.94-.94-2.06-.94 2.06-2.06.94z\"/><path d=\"M17.41 7.96l-1.37-1.37c-.4-.4-.92-.59-1.43-.59-.52 0-1.04.2-1.43.59L10.3 9.45l-7.72 7.72c-.78.78-.78 2.05 0 2.83L4 21.41c.39.39.9.59 1.41.59.51 0 1.02-.2 1.41-.59l7.78-7.78 2.81-2.81c.8-.78.8-2.07 0-2.86zM5.41 20L4 18.59l7.72-7.72 1.47 1.35L5.41 20z\"/>\n",
              "  </svg>\n",
              "      </button>\n",
              "      \n",
              "  <style>\n",
              "    .colab-df-container {\n",
              "      display:flex;\n",
              "      flex-wrap:wrap;\n",
              "      gap: 12px;\n",
              "    }\n",
              "\n",
              "    .colab-df-convert {\n",
              "      background-color: #E8F0FE;\n",
              "      border: none;\n",
              "      border-radius: 50%;\n",
              "      cursor: pointer;\n",
              "      display: none;\n",
              "      fill: #1967D2;\n",
              "      height: 32px;\n",
              "      padding: 0 0 0 0;\n",
              "      width: 32px;\n",
              "    }\n",
              "\n",
              "    .colab-df-convert:hover {\n",
              "      background-color: #E2EBFA;\n",
              "      box-shadow: 0px 1px 2px rgba(60, 64, 67, 0.3), 0px 1px 3px 1px rgba(60, 64, 67, 0.15);\n",
              "      fill: #174EA6;\n",
              "    }\n",
              "\n",
              "    [theme=dark] .colab-df-convert {\n",
              "      background-color: #3B4455;\n",
              "      fill: #D2E3FC;\n",
              "    }\n",
              "\n",
              "    [theme=dark] .colab-df-convert:hover {\n",
              "      background-color: #434B5C;\n",
              "      box-shadow: 0px 1px 3px 1px rgba(0, 0, 0, 0.15);\n",
              "      filter: drop-shadow(0px 1px 2px rgba(0, 0, 0, 0.3));\n",
              "      fill: #FFFFFF;\n",
              "    }\n",
              "  </style>\n",
              "\n",
              "      <script>\n",
              "        const buttonEl =\n",
              "          document.querySelector('#df-2cd0c971-1019-4efd-a4e7-cc9a63205f63 button.colab-df-convert');\n",
              "        buttonEl.style.display =\n",
              "          google.colab.kernel.accessAllowed ? 'block' : 'none';\n",
              "\n",
              "        async function convertToInteractive(key) {\n",
              "          const element = document.querySelector('#df-2cd0c971-1019-4efd-a4e7-cc9a63205f63');\n",
              "          const dataTable =\n",
              "            await google.colab.kernel.invokeFunction('convertToInteractive',\n",
              "                                                     [key], {});\n",
              "          if (!dataTable) return;\n",
              "\n",
              "          const docLinkHtml = 'Like what you see? Visit the ' +\n",
              "            '<a target=\"_blank\" href=https://colab.research.google.com/notebooks/data_table.ipynb>data table notebook</a>'\n",
              "            + ' to learn more about interactive tables.';\n",
              "          element.innerHTML = '';\n",
              "          dataTable['output_type'] = 'display_data';\n",
              "          await google.colab.output.renderOutput(dataTable, element);\n",
              "          const docLink = document.createElement('div');\n",
              "          docLink.innerHTML = docLinkHtml;\n",
              "          element.appendChild(docLink);\n",
              "        }\n",
              "      </script>\n",
              "    </div>\n",
              "  </div>\n",
              "  "
            ]
          },
          "metadata": {},
          "execution_count": 110
        }
      ]
    },
    {
      "cell_type": "markdown",
      "source": [
        "## Question Pandas 5 (OPTIONNEL)"
      ],
      "metadata": {
        "id": "QPfTvj8WKbyj"
      }
    },
    {
      "cell_type": "code",
      "metadata": {
        "id": "T78pPHmQOGRp",
        "colab": {
          "base_uri": "https://localhost:8080/"
        },
        "outputId": "3fd16a35-1391-453b-9293-a432f9f92d78"
      },
      "source": [
        "# Quelle a été la température minimale du mois de juin ?\n",
        "\n",
        "juin = temperatures_df.loc[\"2019-06-01\": \"2019-06-30\", :]\n",
        "juin\n",
        "\n",
        "juin[\"MIN_TEMPERATURE_C\"].min()\n",
        "\n",
        "# La réponse : 7 "
      ],
      "execution_count": null,
      "outputs": [
        {
          "output_type": "execute_result",
          "data": {
            "text/plain": [
              "7"
            ]
          },
          "metadata": {},
          "execution_count": 224
        }
      ]
    }
  ]
}